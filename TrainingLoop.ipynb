{
  "cells": [
    {
      "cell_type": "markdown",
      "metadata": {
        "id": "view-in-github",
        "colab_type": "text"
      },
      "source": [
        "<a href=\"https://colab.research.google.com/github/lol-andy1/STAT421Project/blob/main/STAT421Project.ipynb\" target=\"_parent\"><img src=\"https://colab.research.google.com/assets/colab-badge.svg\" alt=\"Open In Colab\"/></a>"
      ]
    },
    {
      "cell_type": "code",
      "execution_count": null,
      "metadata": {
        "id": "_F67416H8ss_"
      },
      "outputs": [],
      "source": [
        "# Install swig only if installing gymnasium[box2d] gives an error\n",
        "!pip install swig\n",
        "!pip install gymnasium[box2d]"
      ]
    },
    {
      "cell_type": "code",
      "execution_count": null,
      "metadata": {
        "id": "APnjSlOd-QOu"
      },
      "outputs": [],
      "source": [
        "import torch\n",
        "import torch.nn as nn\n",
        "import gymnasium as gym\n",
        "import matplotlib.pyplot as plt\n",
        "import numpy as np\n",
        "from tqdm.notebook import trange\n",
        "from collections import deque"
      ]
    },
    {
      "cell_type": "code",
      "execution_count": null,
      "metadata": {
        "id": "QO6SwhtBkTXw"
      },
      "outputs": [],
      "source": [
        "device = torch.device('cuda:0' if torch.cuda.is_available() else 'cpu')"
      ]
    },
    {
      "cell_type": "code",
      "execution_count": null,
      "metadata": {
        "colab": {
          "base_uri": "https://localhost:8080/"
        },
        "id": "PlOnGbfUJhxW",
        "outputId": "9f2c4eec-8ef1-4883-db7e-476b7ce1e8b3"
      },
      "outputs": [
        {
          "output_type": "stream",
          "name": "stdout",
          "text": [
            "Drive already mounted at /content/gdrive; to attempt to forcibly remount, call drive.mount(\"/content/gdrive\", force_remount=True).\n"
          ]
        }
      ],
      "source": [
        "from google.colab import drive\n",
        "drive.mount('/content/gdrive')"
      ]
    },
    {
      "cell_type": "code",
      "source": [
        "env = gym.make(\"BipedalWalker-v3\")\n",
        "test_env = gym.make(\"BipedalWalker-v3\")\n",
        "act_space = env.action_space.shape[0]\n",
        "obs_space = env.observation_space.shape[0]"
      ],
      "metadata": {
        "id": "gangmCu13GJB"
      },
      "execution_count": null,
      "outputs": []
    },
    {
      "cell_type": "code",
      "execution_count": null,
      "metadata": {
        "id": "BBvrnO88alm9"
      },
      "outputs": [],
      "source": [
        "# Generic neural network\n",
        "class MLP(nn.Module):\n",
        "  def __init__(self, input_size, width, output_size):\n",
        "    super(MLP, self).__init__()\n",
        "\n",
        "    self.layers = nn.Sequential(\n",
        "      nn.Linear(input_size, width), nn.ReLU(),\n",
        "      nn.Linear(width, width), nn.ReLU(),\n",
        "      nn.Linear(width, output_size)\n",
        "    )\n",
        "\n",
        "  def forward(self, input):\n",
        "    output = self.layers(input)\n",
        "    return output"
      ]
    },
    {
      "cell_type": "code",
      "execution_count": null,
      "metadata": {
        "id": "G3MWzRLBCv3n"
      },
      "outputs": [],
      "source": [
        "# Experience buffer\n",
        "class ExperienceBuffer():\n",
        "  def __init__(self, buffer_size):\n",
        "    self.obs_buf = deque(maxlen=buffer_size)\n",
        "    self.rew_buf = deque(maxlen=buffer_size)\n",
        "    self.act_buf = deque(maxlen=buffer_size)\n",
        "    self.obs2_buf = deque(maxlen=buffer_size)\n",
        "    self.done_buf = deque(maxlen=buffer_size)\n",
        "\n",
        "  def add(self, obs, rew, act, obs2, done):\n",
        "    self.obs_buf.append(obs)\n",
        "    self.rew_buf.append(rew)\n",
        "    self.act_buf.append(act)\n",
        "    self.obs2_buf.append(obs2)\n",
        "    self.done_buf.append(done)\n",
        "\n",
        "  def sample_minibatch(self, batch_size):\n",
        "    indices = np.random.randint(len(self.obs_buf), size=batch_size)\n",
        "\n",
        "    batch_obs = [self.obs_buf[i] for i in indices]\n",
        "    batch_rew = [self.rew_buf[i] for i in indices]\n",
        "    batch_act = [self.act_buf[i] for i in indices]\n",
        "    batch_obs2 = [self.obs2_buf[i] for i in indices]\n",
        "    batch_done = [self.done_buf[i] for i in indices]\n",
        "\n",
        "    return batch_obs, batch_rew, batch_act, batch_obs2, batch_done\n",
        "\n",
        "  def __len__(self):\n",
        "      return len(self.obs_buf)"
      ]
    },
    {
      "cell_type": "code",
      "execution_count": null,
      "metadata": {
        "id": "vdyCLIg0FcNs"
      },
      "outputs": [],
      "source": [
        "# Initialize the 4 neural networks needed for DDPG\n",
        "actor = MLP(obs_space, 64, act_space)\n",
        "critic = MLP(obs_space + act_space, 64, 1)\n",
        "target_actor = MLP(obs_space, 64, act_space)\n",
        "target_actor.load_state_dict(actor.state_dict())\n",
        "target_critic = MLP(obs_space + act_space, 64, 1)\n",
        "target_critic.load_state_dict(critic.state_dict())\n",
        "\n",
        "actor = actor.to(device)\n",
        "critic = critic.to(device)\n",
        "target_actor = target_actor.to(device)\n",
        "target_critic = target_critic.to(device)\n",
        "\n",
        "actor_optimizer = torch.optim.Adam(actor.parameters(), lr=5e-4)\n",
        "critic_optimizer = torch.optim.Adam(critic.parameters(), lr=5e-3)"
      ]
    },
    {
      "cell_type": "code",
      "execution_count": null,
      "metadata": {
        "id": "7c-iXvl3hfOB"
      },
      "outputs": [],
      "source": [
        "obs = env.reset()\n",
        "obs = obs[0]\n",
        "buffer = ExperienceBuffer(100000)\n",
        "step_count = 0\n",
        "trace_rew = []\n",
        "trace_test = []\n",
        "max_step = 1000\n",
        "\n",
        "mu = 0.0\n",
        "theta=0.1\n",
        "sigma=0.2\n",
        "ou_noise = torch.ones(act_space) * mu\n",
        "ou_noise = ou_noise.to(device)"
      ]
    },
    {
      "cell_type": "code",
      "execution_count": null,
      "metadata": {
        "id": "8NEy4bwwm2ay"
      },
      "outputs": [],
      "source": [
        "def soft_update(target, online):\n",
        "  for target_param, online_param in zip(target.parameters(), online.parameters()):\n",
        "    target_param.data.copy_(target_param.data * (1.0 - 0.003) + online_param.data * 0.003)\n",
        "\n",
        "def test_agent():\n",
        "  test_rew = []\n",
        "  # Let the agent play 10 games and return it's avg reward\n",
        "  for i in range(10):\n",
        "    done = False\n",
        "    ep_rew = 0\n",
        "    ep_step = 0\n",
        "    obs = test_env.reset()\n",
        "    obs = obs[0]\n",
        "\n",
        "    while not done:\n",
        "      obs = torch.tensor(obs)\n",
        "      obs = obs.to(device)\n",
        "      act = torch.tanh(actor(obs)) * env.action_space.high[0]\n",
        "      obs, rew, done, _, _ = test_env.step(act.cpu().numpy())\n",
        "      ep_rew += rew\n",
        "      ep_step += 1\n",
        "      if ep_rew < -200:\n",
        "        done = True\n",
        "    test_rew.append(ep_rew)\n",
        "  return np.mean(test_rew)"
      ]
    },
    {
      "cell_type": "code",
      "execution_count": null,
      "metadata": {
        "id": "nTbmvqopFk62"
      },
      "outputs": [],
      "source": [
        "# Main training loop\n",
        "for ep in trange(2001):\n",
        "  done = False\n",
        "  ep_rew = 0\n",
        "  ep_step = 0\n",
        "\n",
        "  while not done:\n",
        "\n",
        "    obs = torch.tensor(obs)\n",
        "    obs = obs.to(device)\n",
        "    act = torch.tanh(actor(obs)) * env.action_space.high[0]\n",
        "    # ou_noise = torch.randn(act_space) * 0.15\n",
        "    # ou_noise = ou_noise.to(device)\n",
        "    ou_noise = ou_noise - theta * (ou_noise - mu) + sigma * torch.randn(act_space).to(device)\n",
        "    act = torch.clamp(act + ou_noise, -1.0, 1.0)\n",
        "    obs2, rew, done, _, _ = env.step(act.detach().cpu().numpy())\n",
        "    buffer.add(obs.detach().cpu().numpy(), rew, act.detach().cpu().numpy(), obs2, done)\n",
        "\n",
        "    obs = obs2\n",
        "    ep_rew += rew\n",
        "    step_count += 1\n",
        "    ep_step += 1\n",
        "    if ep_rew < -200:\n",
        "      done = True\n",
        "\n",
        "    if len(buffer) > 64:\n",
        "      # sample a mini batch from the buffer\n",
        "      batch_obs, batch_rew, batch_act, batch_obs2, batch_done = buffer.sample_minibatch(64)\n",
        "\n",
        "      batch_obs = torch.tensor(np.array(batch_obs))\n",
        "      batch_obs2 = torch.tensor(np.array(batch_obs2))\n",
        "      batch_act = torch.tensor(np.array(batch_act))\n",
        "      batch_rew = torch.tensor(batch_rew)\n",
        "      batch_done = torch.tensor(batch_done).int()\n",
        "\n",
        "      # GPU\n",
        "      batch_obs = batch_obs.to(device)\n",
        "      batch_obs2 = batch_obs2.to(device)\n",
        "      batch_act = batch_act.to(device)\n",
        "      batch_rew = batch_rew.to(device)\n",
        "      batch_done = batch_done.to(device)\n",
        "\n",
        "      with torch.no_grad():\n",
        "        act_target = torch.tanh(target_actor(batch_obs2)) * env.action_space.high[0]\n",
        "        q_target = target_critic(torch.cat((batch_obs2, act_target), dim=1))\n",
        "        y = batch_rew + 0.99 * (1-batch_done)*q_target\n",
        "\n",
        "      q_value = critic(torch.cat((batch_obs, batch_act), dim=1))\n",
        "      loss_critic = torch.mean((q_value - y) ** 2)\n",
        "      critic_optimizer.zero_grad()\n",
        "      loss_critic.backward()\n",
        "      critic_optimizer.step()\n",
        "\n",
        "      batch_obs = batch_obs.clone().detach().requires_grad_(True)\n",
        "      act_policy = torch.tanh(actor(batch_obs)) * env.action_space.high[0]\n",
        "      loss_actor = -torch.mean(critic(torch.cat((batch_obs, act_policy), dim=1)))\n",
        "      actor_optimizer.zero_grad()\n",
        "      loss_actor.backward()\n",
        "      actor_optimizer.step()\n",
        "\n",
        "\n",
        "      with torch.no_grad():\n",
        "        soft_update(target_critic, critic)\n",
        "        soft_update(target_actor, actor)\n",
        "\n",
        "    if done:\n",
        "      obs = env.reset()\n",
        "      obs = obs[0]\n",
        "      trace_rew.append(ep_rew)\n",
        "  if ep % 100 == 0 :\n",
        "    with torch.no_grad():\n",
        "      test_result = test_agent()\n",
        "      print(test_result)\n",
        "      trace_test.append(test_result)\n",
        "      if test_result >= max(trace_test) or test_result < -200:\n",
        "        print(\"saved\")\n",
        "        model_path = '/content/gdrive/MyDrive/STAT 421 models/bw_test1.pt'\n",
        "        torch.save(actor.state_dict(), model_path)\n",
        "\n",
        "\n"
      ]
    },
    {
      "cell_type": "code",
      "execution_count": 152,
      "metadata": {
        "id": "tgEP5n8e_hWE",
        "colab": {
          "base_uri": "https://localhost:8080/",
          "height": 542
        },
        "outputId": "a93c4090-3e1e-408a-f3f6-89458252600e"
      },
      "outputs": [
        {
          "output_type": "display_data",
          "data": {
            "text/plain": [
              "<Figure size 500x500 with 2 Axes>"
            ],
            "image/png": "[encoded data removed]"
          },
          "metadata": {}
        },
        {
          "output_type": "stream",
          "name": "stdout",
          "text": [
            "-101.58468309539414\n",
            "471439\n"
          ]
        }
      ],
      "source": [
        "fig, axs = plt.subplots(2, figsize=(5, 5))\n",
        "x = np.linspace(0, 8000,63)\n",
        "axs[0].plot(trace_test)\n",
        "axs[0].set_title('Test Reward')\n",
        "axs[0].set_xlabel('Epochs')\n",
        "axs[0].set_ylabel('Episode Reward')\n",
        "\n",
        "axs[1].plot(trace_rew)\n",
        "axs[1].set_title('Train Reward')\n",
        "axs[1].set_xlabel('Epochs')\n",
        "axs[1].set_ylabel('Episode Reward')\n",
        "plt.tight_layout()\n",
        "plt.show()\n",
        "print(max(trace_test))\n",
        "print(step_count)"
      ]
    },
    {
      "cell_type": "code",
      "source": [
        "model_path = '/content/gdrive/MyDrive/STAT 421 models/bw1.pt'\n",
        "torch.save(actor.state_dict(), model_path)"
      ],
      "metadata": {
        "id": "vmUaOFGJ3tFv"
      },
      "execution_count": 154,
      "outputs": []
    }
  ],
  "metadata": {
    "accelerator": "GPU",
    "colab": {
      "gpuType": "T4",
      "provenance": [],
      "include_colab_link": true
    },
    "kernelspec": {
      "display_name": "Python 3",
      "name": "python3"
    },
    "language_info": {
      "name": "python"
    }
  },
  "nbformat": 4,
  "nbformat_minor": 0
}